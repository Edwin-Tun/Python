{
  "nbformat": 4,
  "nbformat_minor": 0,
  "metadata": {
    "colab": {
      "name": "Python Tutorial.ipynb",
      "provenance": [],
      "collapsed_sections": [],
      "authorship_tag": "ABX9TyP0hFmwLRxfLH2IZ/uQB4K/",
      "include_colab_link": true
    },
    "kernelspec": {
      "name": "python3",
      "display_name": "Python 3"
    }
  },
  "cells": [
    {
      "cell_type": "markdown",
      "metadata": {
        "id": "view-in-github",
        "colab_type": "text"
      },
      "source": [
        "<a href=\"https://colab.research.google.com/github/Edwin-Tun/Python/blob/main/Python_Tutorial.ipynb\" target=\"_parent\"><img src=\"https://colab.research.google.com/assets/colab-badge.svg\" alt=\"Open In Colab\"/></a>"
      ]
    },
    {
      "cell_type": "code",
      "metadata": {
        "id": "u88gWaA7etd_"
      },
      "source": [
        "FName=\"Nay\"\n",
        "MName=\"Min Thura\"\n",
        "LName=\"Tun\"\n",
        "print(\"Full Name:\",FName,MName,LName) \n",
        "print(FName+MName+LName)\n",
        "666"
      ],
      "execution_count": null,
      "outputs": []
    }
  ]
}